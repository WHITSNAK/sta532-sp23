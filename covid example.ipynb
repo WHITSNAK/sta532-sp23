{
 "cells": [
  {
   "cell_type": "code",
   "execution_count": 1,
   "metadata": {},
   "outputs": [],
   "source": [
    "import numpy as np\n",
    "import pandas as pd"
   ]
  },
  {
   "cell_type": "code",
   "execution_count": 22,
   "metadata": {},
   "outputs": [],
   "source": [
    "fp = 0.03\n",
    "fn = 0.4\n",
    "pcovid = 0.33\n",
    "\n",
    "results = []\n",
    "for i in range(20000):\n",
    "    has_covid = np.random.binomial(n=1, p=pcovid)\n",
    "    test_result = np.random.binomial(n=1, p=1-fn if has_covid else fp)\n",
    "\n",
    "    if test_result == 1:\n",
    "        post_has_covid = ((1 - fn) * pcovid) / (((1 - fn) * pcovid) + fp * (1-pcovid))\n",
    "    else:\n",
    "        post_has_covid = (fn * pcovid) / (fn * pcovid + (1-pcovid) * (1-fp))\n",
    "\n",
    "    results.append((has_covid, test_result, post_has_covid, int(post_has_covid >= 0.5)))\n",
    "\n",
    "results = pd.DataFrame(results, columns=['truth', 'test', 'post_p', 'decision'])"
   ]
  },
  {
   "cell_type": "code",
   "execution_count": 23,
   "metadata": {},
   "outputs": [
    {
     "data": {
      "text/plain": [
       "0.15539999999999998"
      ]
     },
     "execution_count": 23,
     "metadata": {},
     "output_type": "execute_result"
    }
   ],
   "source": [
    "1 - (results['decision'] == results['truth']).mean()"
   ]
  },
  {
   "cell_type": "code",
   "execution_count": 37,
   "metadata": {},
   "outputs": [
    {
     "data": {
      "text/plain": [
       "0.40469341408024223"
      ]
     },
     "execution_count": 37,
     "metadata": {},
     "output_type": "execute_result"
    }
   ],
   "source": [
    "(results[results['truth']==1]['decision'] != results[results['truth']==1]['truth']).mean()"
   ]
  },
  {
   "cell_type": "code",
   "execution_count": 38,
   "metadata": {},
   "outputs": [
    {
     "data": {
      "text/plain": [
       "0.032474804031354984"
      ]
     },
     "execution_count": 38,
     "metadata": {},
     "output_type": "execute_result"
    }
   ],
   "source": [
    "(results[results['truth']==0]['decision'] != results[results['truth']==0]['truth']).mean()"
   ]
  },
  {
   "cell_type": "code",
   "execution_count": 19,
   "metadata": {},
   "outputs": [
    {
     "data": {
      "text/plain": [
       "array([0.16881954, 0.90784044])"
      ]
     },
     "execution_count": 19,
     "metadata": {},
     "output_type": "execute_result"
    }
   ],
   "source": [
    "results.post_p.unique()"
   ]
  }
 ],
 "metadata": {
  "kernelspec": {
   "display_name": "base",
   "language": "python",
   "name": "python3"
  },
  "language_info": {
   "codemirror_mode": {
    "name": "ipython",
    "version": 3
   },
   "file_extension": ".py",
   "mimetype": "text/x-python",
   "name": "python",
   "nbconvert_exporter": "python",
   "pygments_lexer": "ipython3",
   "version": "3.9.7"
  },
  "orig_nbformat": 4,
  "vscode": {
   "interpreter": {
    "hash": "8aa86febbd8b68d3c6a1a0d2cefbe9270b8ac80e62773c8b87751ee948ce61ed"
   }
  }
 },
 "nbformat": 4,
 "nbformat_minor": 2
}
